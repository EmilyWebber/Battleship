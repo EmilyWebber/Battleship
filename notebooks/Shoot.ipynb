{
 "cells": [
  {
   "cell_type": "markdown",
   "metadata": {},
   "source": [
    "<img src=\"logos/Logo_shoot.png\" width=500></img>\n",
    "## Intro\n",
    "You will be creating the model the chooses points on the gameboard to shoot at. This guide will walk you through the rules of your endpoint and the following notebook will show the details of implementing your endpoint. This repo starts off with code that implements a random guessing model.\n",
    "\n"
   ]
  },
  {
   "cell_type": "markdown",
   "metadata": {},
   "source": [
    "## Rules\n",
    "<img src=\"diagrams/instructions_shoot.png\"></img>\n",
    "\n",
    "### Request\n",
    "- __opponent__: the name of the team you a playing against\n",
    "- __GameId__: A GUID for this specific game\n",
    "- __board__: the board of marks of your previous shots\n",
    "    - __0__: you have not shot here\n",
    "    - __1__: this is a hit, you shot here and there was a ship\n",
    "    - __2__: this is a miss, you shot here and there was no ship\n",
    "- __session__: state object from previous shot or layout endpoint\n",
    "\n",
    "### Response\n",
    "- __shot__:\n",
    "    - __x__: the x position of your shot\n",
    "    - __y__: the y position of your shot\n",
    "- __session__: an arbitrary session state object to be passed along to the next shoot endpoint call"
   ]
  },
  {
   "cell_type": "markdown",
   "metadata": {},
   "source": [
    "## Setup\n",
    "1. Launch the notebook cloudformation template using the link given to you by the operations group\n",
    "\n",
    "1. Open up a terminal switch to layout branch by running \n",
    "```shell\n",
    "cd cd /home/ec2-user/SageMaker/ml-gameday\n",
    "git checkout shoot\n",
    "```\n",
    "\n",
    "1. copy config.js\n",
    "```shell\n",
    "cp config.js.example config.js\n",
    "```\n",
    "2. configure config.js by editing the following fields\n",
    "\n",
    "|Field|Meaning|Suggested Value|\n",
    "|---|---|---|\n",
    "|namespace|the name prepended to cloudformation templates. change this field to create dev and prod stacks|dev-shoot|\n",
    "|region|The AWS region you want to launch resources into|us-east-1 or us-west-2|\n",
    "|parameters.MasterAccount|The AWS Account where the GameDay engine runs|Given to you by GameDay coordinators|\n",
    "|paremeters.GameArchiveBucket|The AWS S3 Bucket that contains the historical game data|Given to you by GameDay coordinators|\n",
    "\n",
    "so you config.json might look like this\n",
    "```json\n",
    "{\n",
    "    \"namespace\":\"dev-shoot\",\n",
    "    \"project\":\"battleship-bootstrap\",\n",
    "    \"profile\":\"default\",\n",
    "    \"region\":\"us-east-1\",\n",
    "    \"parameters\":{\n",
    "        \"MasterAccount\":\"123456789012\",\n",
    "        \"GameArchiveBucket\":\"<gameday-archive-bucket>\"\n",
    "    }\n",
    "}\n",
    "```\n",
    "1. The following commands to install all libraries, setup your asset bucket and launch your development stack"
   ]
  },
  {
   "cell_type": "code",
   "execution_count": null,
   "metadata": {},
   "outputs": [],
   "source": [
    "!cd .. && npm install && pip install -r requirements.txt && !npm run bootstrap && npm run up"
   ]
  },
  {
   "cell_type": "markdown",
   "metadata": {},
   "source": [
    "## Development\n",
    "see [Endpoint Notebook](/notebooks/Layout.ipynb) for how to write, test, and deploy your model code"
   ]
  },
  {
   "cell_type": "code",
   "execution_count": null,
   "metadata": {},
   "outputs": [],
   "source": []
  }
 ],
 "metadata": {
  "kernelspec": {
   "display_name": "Python 3",
   "language": "python",
   "name": "python3"
  },
  "language_info": {
   "codemirror_mode": {
    "name": "ipython",
    "version": 3
   },
   "file_extension": ".py",
   "mimetype": "text/x-python",
   "name": "python",
   "nbconvert_exporter": "python",
   "pygments_lexer": "ipython3",
   "version": "3.6.5"
  }
 },
 "nbformat": 4,
 "nbformat_minor": 2
}
