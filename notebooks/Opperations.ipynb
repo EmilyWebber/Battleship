{
 "cells": [
  {
   "cell_type": "markdown",
   "metadata": {},
   "source": [
    "<img src=\"logos/Logo_operations.png\" width=500></img>\n"
   ]
  },
  {
   "cell_type": "markdown",
   "metadata": {},
   "source": [
    "## Welcome!\n",
    "Welcome to the opperations group! you are responsible for deploy the code and models for your team and this guide will walk you through how to do you job. You will:\n",
    "\n",
    "1. Set Up Code\n",
    "1. Install requirements\n",
    "1. configure your deployment environment\n",
    "1. launch asset bucket\n",
    "1. launch resources\n",
    "1. Train and deploy models\n",
    "1. register your team\n",
    "1. retrain and redeploy models"
   ]
  },
  {
   "cell_type": "markdown",
   "metadata": {},
   "source": [
    "## SetUp Notebook Instance\n",
    "To launch your sagemaker notebook instance click the following link that will launch a cloudformation template that creates all the needed resources\n",
    "https://console.aws.amazon.com/cloudformation/home?region=us-east-1#/stacks/new?stackName=OperationsNotebook&templateURL=http://s3.amazonaws.com/jmc-website/ml-gameday/templates/operations-notebook.json\n",
    "\n",
    "when the stack has completed go to its outputs and click the \"JuypterURL\" link to login to the instance\n",
    "\n",
    "## Set up Code\n",
    "1. Fork this (gameday bootstrap) repository\n",
    "2. clone into your notebook instance by opening up a terminal\n",
    "```shell\n",
    "cd /home/ec2-user/SageMaker \n",
    "git clone https://github.com/aws-samples/ml-gameday-tutorial.git\n",
    "```\n",
    "3. change remote origin to point to your codecommit repo (you dont want your code in github because other teams can see that)\n",
    "```shell\n",
    "cd ml-gameday-tutorial\n",
    "git remote set-url origin <code commit HTTPS Url>\n",
    "```\n",
    "\n",
    "4. create the following branches: dev, layout,shoot\n",
    "```shell\n",
    "git branch dev\n",
    "git branch layout\n",
    "git branch shoot\n",
    "git push --all -u\n",
    "```\n",
    "5. share the following link with the other groups to create their notebook instance. It will automatically load your git repository into the instance (change the \"ml-gameday\" part of the link if you have your codecommit repository a different name)\n",
    "\n",
    "https://console.aws.amazon.com/cloudformation/home?region=us-east-1#/stacks/create/review?stackName=MLGameDayNotebook&templateURL=http://s3.amazonaws.com/jmc-website/ml-gameday/templates/notebook.json&param_CodeCommitRepoName=ml-gameday\n"
   ]
  },
  {
   "cell_type": "markdown",
   "metadata": {},
   "source": [
    "## Install requirements\n",
    "\n",
    "The follow cell will install all the needed nodejs requirements for the repository. If you do not have nodejs install you will need to install it"
   ]
  },
  {
   "cell_type": "code",
   "execution_count": null,
   "metadata": {},
   "outputs": [],
   "source": [
    "!cd .. && npm install"
   ]
  },
  {
   "cell_type": "markdown",
   "metadata": {},
   "source": [
    "The following cell will install the needed python requirements"
   ]
  },
  {
   "cell_type": "code",
   "execution_count": null,
   "metadata": {},
   "outputs": [],
   "source": [
    "!cd .. && pip install -r requirements.txt"
   ]
  },
  {
   "cell_type": "markdown",
   "metadata": {},
   "source": [
    "## Configure \n",
    "Next we need to configure the launch settings. do the following:\n",
    "\n",
    "1. copy config.js\n",
    "```shell\n",
    "cp config.js.example config.js\n",
    "```\n",
    "2. configure config.js by editing the following fields\n",
    "\n",
    "|Field|Meaning|Suggested Value|\n",
    "|---|---|---|\n",
    "|namespace|the name prepended to cloudformation templates. change this field to create dev and prod stacks|prod|\n",
    "|region|The AWS region you want to launch resources into|us-east-1 or us-west-2|\n",
    "|parameters.MasterAccount|The AWS Account where the GameDay engine runs|Given to you by GameDay coordinators|\n",
    "|paremeters.GameArchiveBucket|The AWS S3 Bucket that contains the historical game data|Given to you by GameDay coordinators|\n",
    "\n",
    "so you config.json might look like this\n",
    "```json\n",
    "{\n",
    "    \"namespace\":\"prod\",\n",
    "    \"project\":\"battleship-bootstrap\",\n",
    "    \"profile\":\"default\",\n",
    "    \"region\":\"us-east-1\",\n",
    "    \"parameters\":{\n",
    "        \"MasterAccount\":\"123456789012\",\n",
    "        \"GameArchiveBucket\":\"<gameday-archive-bucket>\"\n",
    "    }\n",
    "}\n",
    "```\n",
    "3. Make sure you are on the master branch of the repo by runing the following command:"
   ]
  },
  {
   "cell_type": "code",
   "execution_count": null,
   "metadata": {},
   "outputs": [],
   "source": [
    "!git branch"
   ]
  },
  {
   "cell_type": "markdown",
   "metadata": {},
   "source": [
    "## Luanch Asset Bucket \n",
    "Now we are going to launch a cloudformation template that creates and S3 \"Asset\" bucket to hold all the assets we need to launch the main cloudformatio template. All you need to do is run the following cell"
   ]
  },
  {
   "cell_type": "code",
   "execution_count": null,
   "metadata": {},
   "outputs": [],
   "source": [
    "!npm run bootstrap"
   ]
  },
  {
   "cell_type": "markdown",
   "metadata": {},
   "source": [
    "## Launch"
   ]
  },
  {
   "cell_type": "markdown",
   "metadata": {},
   "source": [
    "Lastly, we will launch the main cloudformation template with all the infastructure we will need. The following cell will launch a cloudformation template that has:\n",
    "\n",
    "- aws-sagemaker-build pipeline for the Layout Endpoint\n",
    "- aws-sagemaker-build pipeline for the Shoot Endpoint\n",
    "- an SNS Topic and SQS Queue to recieve errors from the Game Engine\n",
    "- A IAM role that the Game Engine will assume inorder to call your endpoint\n",
    "- An AWS glue crawler and database for the game data"
   ]
  },
  {
   "cell_type": "code",
   "execution_count": null,
   "metadata": {},
   "outputs": [],
   "source": [
    "!npm run up"
   ]
  },
  {
   "cell_type": "markdown",
   "metadata": {},
   "source": [
    "## Train and Deploy Initial Models\n",
    "\n",
    "now that you have the infastructure up you need to train and deploy your models. This repository already has code to deploy very simple Layout and Shoot endoint. the following two cells wil train and deploy those models"
   ]
  },
  {
   "cell_type": "code",
   "execution_count": null,
   "metadata": {},
   "outputs": [],
   "source": [
    "!cd .. && ./bin/startLayoutPipeline.js"
   ]
  },
  {
   "cell_type": "code",
   "execution_count": null,
   "metadata": {},
   "outputs": [],
   "source": [
    "!cd .. && ./bin/startShootPipeline.js"
   ]
  },
  {
   "cell_type": "markdown",
   "metadata": {},
   "source": [
    "## Register Team\n",
    "Once your two endpoints and deployed and up you can now register your team and start playing. Run the following cell to get the information needed to register your team"
   ]
  },
  {
   "cell_type": "code",
   "execution_count": 4,
   "metadata": {},
   "outputs": [
    {
     "name": "stdout",
     "output_type": "stream",
     "text": [
      "(node:44376) UnhandledPromiseRejectionWarning: Unhandled promise rejection (rejection id: 1): ValidationError: Stack with id battleship-bootstrap-dev-0 does not exist\r\n",
      "(node:44376) [DEP0018] DeprecationWarning: Unhandled promise rejections are deprecated. In the future, promise rejections that are not handled will terminate the Node.js process with a non-zero exit code.\r\n"
     ]
    }
   ],
   "source": [
    "!../bin/register_outputs.sh"
   ]
  },
  {
   "cell_type": "markdown",
   "metadata": {},
   "source": [
    "## Share Data Bucket\n",
    "there is a single s3 bucket that data will need to be uploaded to inorder to be used by endpoint teams. You can find this bucket by running:"
   ]
  },
  {
   "cell_type": "code",
   "execution_count": null,
   "metadata": {},
   "outputs": [],
   "source": [
    "!echo \"Layout Data Bucket:\"\n",
    "!../templates/main/bin/output.js | jq '.LayoutDataBucket'\n",
    "!echo \"Shoot Data Bucket:\"\n",
    "!../templates/main/bin/output.js | jq '.ShootDataBucket'"
   ]
  },
  {
   "cell_type": "markdown",
   "metadata": {},
   "source": [
    "## retrain and redeploy models\n",
    "\n",
    "- Whent the Offensive and Defensive groups have changes they will commit them to their branches. Merge their branches into Dev first to check for any conflicts, then merge into master. \n",
    "\n",
    "- to update your models you can kick off new pipeline jobs using the same startLayoutPipeline.js and startShootPipeline.js scripts you ran earlier\n",
    "\n",
    "- if you make changes to your infastructure (new resources or changes to aws-sagemaker-build parameters) run the following command"
   ]
  },
  {
   "cell_type": "code",
   "execution_count": null,
   "metadata": {},
   "outputs": [],
   "source": [
    "!npm run update"
   ]
  }
 ],
 "metadata": {
  "kernelspec": {
   "display_name": "Python 3",
   "language": "python",
   "name": "python3"
  },
  "language_info": {
   "codemirror_mode": {
    "name": "ipython",
    "version": 3
   },
   "file_extension": ".py",
   "mimetype": "text/x-python",
   "name": "python",
   "nbconvert_exporter": "python",
   "pygments_lexer": "ipython3",
   "version": "3.6.5"
  }
 },
 "nbformat": 4,
 "nbformat_minor": 2
}
