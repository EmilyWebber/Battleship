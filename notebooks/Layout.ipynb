{
 "cells": [
  {
   "cell_type": "markdown",
   "metadata": {},
   "source": [
    "<img src=\"logos/Logo_layout.png\" width=500></img>\n"
   ]
  },
  {
   "cell_type": "markdown",
   "metadata": {},
   "source": [
    "## Introductions\n",
    "You will be creating a model that creates the layout of ships at the begining of each game. The following will describe the rules of your endpoint and the following notebook will show the details of implementing your endpoint. This repo has code implementing a basic layout endpoint, it will choose 5 random points and then place another ship to the right of each of those 5 points. \n",
    "\n",
    "## Rules\n",
    "<img src=\"diagrams/instructions_layout.png\"></img>\n",
    "\n",
    "### Request\n",
    "- __opponent__: The name of the team you are playing against for this game\n",
    "- __width & height__:the width and height of the game board. will not change during a gameday\n",
    "- __rule set__:\n",
    "    - __ship cells__: how many cells on the board that must be marked as ships\n",
    "    - __connectedShipCells__: The minimum number of times two ship cells must be adjacent to each other, left/right or top bottom (not diaganol) \n",
    "\n",
    "### Response\n",
    "- __Layout__:an array of arrays marking how you layed out your ships\n",
    "    - __empty cell=0__: there is no ship here\n",
    "    - __ship cell=1__: there is a ship here\n",
    "- __session__: an arbitrary session state object to be passed along to the shooting endpoint\n",
    "\n",
    "### Examples\n",
    "\n",
    "<img src=\"diagrams/instructions_layout_examples.png\"></img>\n",
    "\n"
   ]
  },
  {
   "cell_type": "markdown",
   "metadata": {},
   "source": [
    "## Setup\n",
    "1. Launch the notebook cloudformation template using the link given to you by the operations group\n",
    "\n",
    "1. Open up a terminal switch to layout branch by running \n",
    "```shell\n",
    "cd cd /home/ec2-user/SageMaker/ml-gameday\n",
    "git checkout layout\n",
    "```\n",
    "1. copy config.js\n",
    "```shell\n",
    "cp config.js.example config.js\n",
    "```\n",
    "2. configure config.js by editing the following fields\n",
    "\n",
    "|Field|Meaning|Suggested Value|\n",
    "|---|---|---|\n",
    "|namespace|the name prepended to cloudformation templates. change this field to create dev and prod stacks|dev-layout|\n",
    "|region|The AWS region you want to launch resources into|us-east-1 or us-west-2|\n",
    "|parameters.MasterAccount|The AWS Account where the GameDay engine runs|Given to you by GameDay coordinators|\n",
    "|paremeters.GameArchiveBucket|The AWS S3 Bucket that contains the historical game data|Given to you by GameDay coordinators|\n",
    "\n",
    "so you config.json might look like this\n",
    "```json\n",
    "{\n",
    "    \"namespace\":\"dev-layout\",\n",
    "    \"project\":\"battleship-bootstrap\",\n",
    "    \"profile\":\"default\",\n",
    "    \"region\":\"us-east-1\",\n",
    "    \"parameters\":{\n",
    "        \"MasterAccount\":\"123456789012\",\n",
    "        \"GameArchiveBucket\":\"<gameday-archive-bucket>\"\n",
    "    }\n",
    "}\n",
    "```\n",
    "1. The following commands to install all libraries, setup your asset bucket and launch your development stack"
   ]
  },
  {
   "cell_type": "code",
   "execution_count": null,
   "metadata": {},
   "outputs": [],
   "source": [
    "!cd .. && npm install && pip install -r requirements.txt && !npm run bootstrap && npm run up"
   ]
  }
 ],
 "metadata": {
  "kernelspec": {
   "display_name": "Python 3",
   "language": "python",
   "name": "python3"
  },
  "language_info": {
   "codemirror_mode": {
    "name": "ipython",
    "version": 3
   },
   "file_extension": ".py",
   "mimetype": "text/x-python",
   "name": "python",
   "nbconvert_exporter": "python",
   "pygments_lexer": "ipython3",
   "version": "3.6.5"
  }
 },
 "nbformat": 4,
 "nbformat_minor": 2
}
