{
 "cells": [
  {
   "cell_type": "markdown",
   "metadata": {},
   "source": [
    "# Rationale\n",
    "In order to deploy your battleship-finding model into the game environment, you need to package the solution as an inference pipeline. These containers will need to look like the following:\n",
    "    \n",
    "   (1) Turn the board into feature vectors\n",
    "   \n",
    "   (2) Send the feature vectors into your model for inference\n",
    "   \n",
    "   (3) Process the inference results to return a point on the board your endpoint will hit."
   ]
  },
  {
   "cell_type": "code",
   "execution_count": null,
   "metadata": {},
   "outputs": [],
   "source": [
    "### here's how to build a docker container with your "
   ]
  }
 ],
 "metadata": {
  "kernelspec": {
   "display_name": "conda_python3",
   "language": "python",
   "name": "conda_python3"
  },
  "language_info": {
   "codemirror_mode": {
    "name": "ipython",
    "version": 3
   },
   "file_extension": ".py",
   "mimetype": "text/x-python",
   "name": "python",
   "nbconvert_exporter": "python",
   "pygments_lexer": "ipython3",
   "version": "3.6.5"
  }
 },
 "nbformat": 4,
 "nbformat_minor": 2
}
