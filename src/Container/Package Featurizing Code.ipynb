{
 "cells": [
  {
   "cell_type": "code",
   "execution_count": 22,
   "metadata": {},
   "outputs": [],
   "source": [
    "# S3 prefix\n",
    "prefix = 'battleship'\n",
    "bucket = 'battleship-do-not-delete'\n",
    "import sagemaker\n",
    "from sagemaker import get_execution_role\n",
    "\n",
    "sagemaker_session = sagemaker.Session()\n",
    "\n",
    "# Get a SageMaker-compatible role used by this Notebook Instance.\n",
    "role = get_execution_role()"
   ]
  },
  {
   "cell_type": "code",
   "execution_count": 23,
   "metadata": {},
   "outputs": [],
   "source": [
    "train_input = 's3://battleship-do-not-delete/board-raw-data/board.csv'"
   ]
  },
  {
   "cell_type": "code",
   "execution_count": 26,
   "metadata": {},
   "outputs": [],
   "source": [
    "from sagemaker.sklearn.estimator import SKLearn\n",
    "\n",
    "sklearn = SKLearn(\n",
    "    entry_point= 'model.py',\n",
    "    train_instance_type=\"local\",\n",
    "    role=role,\n",
    "    output_path='s3://{}/{}/output'.format(bucket, prefix) )\n",
    "\n",
    "#     sagemaker_session=sagemaker_session)"
   ]
  },
  {
   "cell_type": "code",
   "execution_count": 27,
   "metadata": {
    "scrolled": true
   },
   "outputs": [
    {
     "name": "stdout",
     "output_type": "stream",
     "text": [
      "Creating tmpxcyo_12x_algo-1-z4z3b_1 ... \n",
      "\u001b[1BAttaching to tmpxcyo_12x_algo-1-z4z3b_12mdone\u001b[0m\n",
      "\u001b[36malgo-1-z4z3b_1  |\u001b[0m 2019-07-14 05:14:52,458 sagemaker-containers INFO     Imported framework sagemaker_sklearn_container.training\n",
      "\u001b[36malgo-1-z4z3b_1  |\u001b[0m 2019-07-14 05:14:52,460 sagemaker-containers INFO     No GPUs detected (normal if no gpus installed)\n",
      "\u001b[36malgo-1-z4z3b_1  |\u001b[0m 2019-07-14 05:14:52,471 sagemaker_sklearn_container.training INFO     Invoking user training script.\n",
      "\u001b[36malgo-1-z4z3b_1  |\u001b[0m 2019-07-14 05:14:52,588 sagemaker-containers INFO     Module model does not provide a setup.py. \n",
      "\u001b[36malgo-1-z4z3b_1  |\u001b[0m Generating setup.py\n",
      "\u001b[36malgo-1-z4z3b_1  |\u001b[0m 2019-07-14 05:14:52,588 sagemaker-containers INFO     Generating setup.cfg\n",
      "\u001b[36malgo-1-z4z3b_1  |\u001b[0m 2019-07-14 05:14:52,588 sagemaker-containers INFO     Generating MANIFEST.in\n",
      "\u001b[36malgo-1-z4z3b_1  |\u001b[0m 2019-07-14 05:14:52,588 sagemaker-containers INFO     Installing module with the following command:\n",
      "\u001b[36malgo-1-z4z3b_1  |\u001b[0m /usr/bin/python3 -m pip install -U . \n",
      "\u001b[36malgo-1-z4z3b_1  |\u001b[0m Processing /opt/ml/code\n",
      "\u001b[36malgo-1-z4z3b_1  |\u001b[0m Building wheels for collected packages: model\n",
      "\u001b[36malgo-1-z4z3b_1  |\u001b[0m   Building wheel for model (setup.py) ... \u001b[?25ldone\n",
      "\u001b[36malgo-1-z4z3b_1  |\u001b[0m \u001b[?25h  Stored in directory: /tmp/pip-ephem-wheel-cache-rdhhn3o9/wheels/35/24/16/37574d11bf9bde50616c67372a334f94fa8356bc7164af8ca3\n",
      "\u001b[36malgo-1-z4z3b_1  |\u001b[0m Successfully built model\n",
      "\u001b[36malgo-1-z4z3b_1  |\u001b[0m Installing collected packages: model\n",
      "\u001b[36malgo-1-z4z3b_1  |\u001b[0m Successfully installed model-1.0.0\n",
      "\u001b[36malgo-1-z4z3b_1  |\u001b[0m 2019-07-14 05:14:53,493 sagemaker-containers INFO     No GPUs detected (normal if no gpus installed)\n",
      "\u001b[36malgo-1-z4z3b_1  |\u001b[0m 2019-07-14 05:14:53,505 sagemaker-containers INFO     Invoking user script\n",
      "\u001b[36malgo-1-z4z3b_1  |\u001b[0m \n",
      "\u001b[36malgo-1-z4z3b_1  |\u001b[0m Training Env:\n",
      "\u001b[36malgo-1-z4z3b_1  |\u001b[0m \n",
      "\u001b[36malgo-1-z4z3b_1  |\u001b[0m {\n",
      "\u001b[36malgo-1-z4z3b_1  |\u001b[0m     \"master_hostname\": \"algo-1-z4z3b\",\n",
      "\u001b[36malgo-1-z4z3b_1  |\u001b[0m     \"additional_framework_parameters\": {},\n",
      "\u001b[36malgo-1-z4z3b_1  |\u001b[0m     \"current_host\": \"algo-1-z4z3b\",\n",
      "\u001b[36malgo-1-z4z3b_1  |\u001b[0m     \"job_name\": \"sagemaker-scikit-learn-2019-07-14-05-14-50-657\",\n",
      "\u001b[36malgo-1-z4z3b_1  |\u001b[0m     \"input_data_config\": {\n",
      "\u001b[36malgo-1-z4z3b_1  |\u001b[0m         \"train\": {\n",
      "\u001b[36malgo-1-z4z3b_1  |\u001b[0m             \"TrainingInputMode\": \"File\"\n",
      "\u001b[36malgo-1-z4z3b_1  |\u001b[0m         }\n",
      "\u001b[36malgo-1-z4z3b_1  |\u001b[0m     },\n",
      "\u001b[36malgo-1-z4z3b_1  |\u001b[0m     \"num_cpus\": 4,\n",
      "\u001b[36malgo-1-z4z3b_1  |\u001b[0m     \"output_dir\": \"/opt/ml/output\",\n",
      "\u001b[36malgo-1-z4z3b_1  |\u001b[0m     \"log_level\": 20,\n",
      "\u001b[36malgo-1-z4z3b_1  |\u001b[0m     \"channel_input_dirs\": {\n",
      "\u001b[36malgo-1-z4z3b_1  |\u001b[0m         \"train\": \"/opt/ml/input/data/train\"\n",
      "\u001b[36malgo-1-z4z3b_1  |\u001b[0m     },\n",
      "\u001b[36malgo-1-z4z3b_1  |\u001b[0m     \"hosts\": [\n",
      "\u001b[36malgo-1-z4z3b_1  |\u001b[0m         \"algo-1-z4z3b\"\n",
      "\u001b[36malgo-1-z4z3b_1  |\u001b[0m     ],\n",
      "\u001b[36malgo-1-z4z3b_1  |\u001b[0m     \"is_master\": true,\n",
      "\u001b[36malgo-1-z4z3b_1  |\u001b[0m     \"output_intermediate_dir\": \"/opt/ml/output/intermediate\",\n",
      "\u001b[36malgo-1-z4z3b_1  |\u001b[0m     \"module_name\": \"model\",\n",
      "\u001b[36malgo-1-z4z3b_1  |\u001b[0m     \"num_gpus\": 0,\n",
      "\u001b[36malgo-1-z4z3b_1  |\u001b[0m     \"user_entry_point\": \"model.py\",\n",
      "\u001b[36malgo-1-z4z3b_1  |\u001b[0m     \"module_dir\": \"s3://battleship-do-not-delete/sagemaker-scikit-learn-2019-07-14-05-14-50-657/source/sourcedir.tar.gz\",\n",
      "\u001b[36malgo-1-z4z3b_1  |\u001b[0m     \"network_interface_name\": \"eth0\",\n",
      "\u001b[36malgo-1-z4z3b_1  |\u001b[0m     \"input_dir\": \"/opt/ml/input\",\n",
      "\u001b[36malgo-1-z4z3b_1  |\u001b[0m     \"output_data_dir\": \"/opt/ml/output/data\",\n",
      "\u001b[36malgo-1-z4z3b_1  |\u001b[0m     \"model_dir\": \"/opt/ml/model\",\n",
      "\u001b[36malgo-1-z4z3b_1  |\u001b[0m     \"framework_module\": \"sagemaker_sklearn_container.training:main\",\n",
      "\u001b[36malgo-1-z4z3b_1  |\u001b[0m     \"resource_config\": {\n",
      "\u001b[36malgo-1-z4z3b_1  |\u001b[0m         \"hosts\": [\n",
      "\u001b[36malgo-1-z4z3b_1  |\u001b[0m             \"algo-1-z4z3b\"\n",
      "\u001b[36malgo-1-z4z3b_1  |\u001b[0m         ],\n",
      "\u001b[36malgo-1-z4z3b_1  |\u001b[0m         \"current_host\": \"algo-1-z4z3b\"\n",
      "\u001b[36malgo-1-z4z3b_1  |\u001b[0m     },\n",
      "\u001b[36malgo-1-z4z3b_1  |\u001b[0m     \"input_config_dir\": \"/opt/ml/input/config\",\n",
      "\u001b[36malgo-1-z4z3b_1  |\u001b[0m     \"hyperparameters\": {}\n",
      "\u001b[36malgo-1-z4z3b_1  |\u001b[0m }\n",
      "\u001b[36malgo-1-z4z3b_1  |\u001b[0m \n",
      "\u001b[36malgo-1-z4z3b_1  |\u001b[0m Environment variables:\n",
      "\u001b[36malgo-1-z4z3b_1  |\u001b[0m \n",
      "\u001b[36malgo-1-z4z3b_1  |\u001b[0m SM_NUM_CPUS=4\n",
      "\u001b[36malgo-1-z4z3b_1  |\u001b[0m SM_CURRENT_HOST=algo-1-z4z3b\n",
      "\u001b[36malgo-1-z4z3b_1  |\u001b[0m SM_USER_ARGS=[]\n",
      "\u001b[36malgo-1-z4z3b_1  |\u001b[0m SM_MODULE_DIR=s3://battleship-do-not-delete/sagemaker-scikit-learn-2019-07-14-05-14-50-657/source/sourcedir.tar.gz\n",
      "\u001b[36malgo-1-z4z3b_1  |\u001b[0m SM_OUTPUT_DIR=/opt/ml/output\n",
      "\u001b[36malgo-1-z4z3b_1  |\u001b[0m SM_NETWORK_INTERFACE_NAME=eth0\n",
      "\u001b[36malgo-1-z4z3b_1  |\u001b[0m SM_MODULE_NAME=model\n",
      "\u001b[36malgo-1-z4z3b_1  |\u001b[0m PYTHONPATH=/usr/local/bin:/usr/lib/python35.zip:/usr/lib/python3.5:/usr/lib/python3.5/plat-x86_64-linux-gnu:/usr/lib/python3.5/lib-dynload:/usr/local/lib/python3.5/dist-packages:/usr/lib/python3/dist-packages\n",
      "\u001b[36malgo-1-z4z3b_1  |\u001b[0m SM_INPUT_DIR=/opt/ml/input\n",
      "\u001b[36malgo-1-z4z3b_1  |\u001b[0m SM_USER_ENTRY_POINT=model.py\n",
      "\u001b[36malgo-1-z4z3b_1  |\u001b[0m SM_HOSTS=[\"algo-1-z4z3b\"]\n",
      "\u001b[36malgo-1-z4z3b_1  |\u001b[0m SM_TRAINING_ENV={\"additional_framework_parameters\":{},\"channel_input_dirs\":{\"train\":\"/opt/ml/input/data/train\"},\"current_host\":\"algo-1-z4z3b\",\"framework_module\":\"sagemaker_sklearn_container.training:main\",\"hosts\":[\"algo-1-z4z3b\"],\"hyperparameters\":{},\"input_config_dir\":\"/opt/ml/input/config\",\"input_data_config\":{\"train\":{\"TrainingInputMode\":\"File\"}},\"input_dir\":\"/opt/ml/input\",\"is_master\":true,\"job_name\":\"sagemaker-scikit-learn-2019-07-14-05-14-50-657\",\"log_level\":20,\"master_hostname\":\"algo-1-z4z3b\",\"model_dir\":\"/opt/ml/model\",\"module_dir\":\"s3://battleship-do-not-delete/sagemaker-scikit-learn-2019-07-14-05-14-50-657/source/sourcedir.tar.gz\",\"module_name\":\"model\",\"network_interface_name\":\"eth0\",\"num_cpus\":4,\"num_gpus\":0,\"output_data_dir\":\"/opt/ml/output/data\",\"output_dir\":\"/opt/ml/output\",\"output_intermediate_dir\":\"/opt/ml/output/intermediate\",\"resource_config\":{\"current_host\":\"algo-1-z4z3b\",\"hosts\":[\"algo-1-z4z3b\"]},\"user_entry_point\":\"model.py\"}\n",
      "\u001b[36malgo-1-z4z3b_1  |\u001b[0m SM_FRAMEWORK_MODULE=sagemaker_sklearn_container.training:main\n",
      "\u001b[36malgo-1-z4z3b_1  |\u001b[0m SM_MODEL_DIR=/opt/ml/model\n",
      "\u001b[36malgo-1-z4z3b_1  |\u001b[0m SM_CHANNELS=[\"train\"]\n",
      "\u001b[36malgo-1-z4z3b_1  |\u001b[0m SM_OUTPUT_DATA_DIR=/opt/ml/output/data\n",
      "\u001b[36malgo-1-z4z3b_1  |\u001b[0m SM_INPUT_DATA_CONFIG={\"train\":{\"TrainingInputMode\":\"File\"}}\n",
      "\u001b[36malgo-1-z4z3b_1  |\u001b[0m SM_OUTPUT_INTERMEDIATE_DIR=/opt/ml/output/intermediate\n",
      "\u001b[36malgo-1-z4z3b_1  |\u001b[0m SM_LOG_LEVEL=20\n",
      "\u001b[36malgo-1-z4z3b_1  |\u001b[0m SM_CHANNEL_TRAIN=/opt/ml/input/data/train\n",
      "\u001b[36malgo-1-z4z3b_1  |\u001b[0m SM_FRAMEWORK_PARAMS={}\n",
      "\u001b[36malgo-1-z4z3b_1  |\u001b[0m SM_INPUT_CONFIG_DIR=/opt/ml/input/config\n",
      "\u001b[36malgo-1-z4z3b_1  |\u001b[0m SM_RESOURCE_CONFIG={\"current_host\":\"algo-1-z4z3b\",\"hosts\":[\"algo-1-z4z3b\"]}\n",
      "\u001b[36malgo-1-z4z3b_1  |\u001b[0m SM_HPS={}\n",
      "\u001b[36malgo-1-z4z3b_1  |\u001b[0m SM_NUM_GPUS=0\n",
      "\u001b[36malgo-1-z4z3b_1  |\u001b[0m \n",
      "\u001b[36malgo-1-z4z3b_1  |\u001b[0m Invoking script with the following command:\n",
      "\u001b[36malgo-1-z4z3b_1  |\u001b[0m \n",
      "\u001b[36malgo-1-z4z3b_1  |\u001b[0m /usr/bin/python3 -m model\n",
      "\u001b[36malgo-1-z4z3b_1  |\u001b[0m \n",
      "\u001b[36malgo-1-z4z3b_1  |\u001b[0m \n",
      "\u001b[36malgo-1-z4z3b_1  |\u001b[0m 2019-07-14 05:14:53,888 sagemaker-containers INFO     Reporting training SUCCESS\n",
      "\u001b[36mtmpxcyo_12x_algo-1-z4z3b_1 exited with code 0\n",
      "\u001b[0mAborting on container exit...\n",
      "===== Job Complete =====\n"
     ]
    }
   ],
   "source": [
    "sklearn.fit({'train': train_input})"
   ]
  },
  {
   "cell_type": "markdown",
   "metadata": {},
   "source": [
    "## Using the trained model to make inference requests <a class=\"anchor\" id=\"inference\"></a>\n",
    "\n",
    "### Deploy the model <a class=\"anchor\" id=\"deploy\"></a>\n",
    "\n",
    "Deploying the model to SageMaker hosting just requires a `deploy` call on the fitted model. This call takes an instance count and instance type."
   ]
  },
  {
   "cell_type": "code",
   "execution_count": null,
   "metadata": {},
   "outputs": [],
   "source": [
    "predictor = sklearn.deploy(initial_instance_count=1, instance_type=\"ml.m4.xlarge\")"
   ]
  },
  {
   "cell_type": "markdown",
   "metadata": {},
   "source": [
    "### Choose some data and use it for a prediction <a class=\"anchor\" id=\"prediction_request\"></a>\n",
    "\n",
    "In order to do some predictions, we'll extract some of the data we used for training and do predictions against it. This is, of course, bad statistical practice, but a good way to see how the mechanism works."
   ]
  },
  {
   "cell_type": "code",
   "execution_count": null,
   "metadata": {},
   "outputs": [],
   "source": [
    "import itertools\n",
    "import pandas as pd\n",
    "\n",
    "shape = pd.read_csv(\"data/iris.csv\", header=None)\n",
    "\n",
    "a = [50*i for i in range(3)]\n",
    "b = [40+i for i in range(10)]\n",
    "indices = [i+j for i,j in itertools.product(a,b)]\n",
    "\n",
    "test_data = shape.iloc[indices[:-1]]\n",
    "test_X = test_data.iloc[:,1:]\n",
    "test_y = test_data.iloc[:,0]"
   ]
  },
  {
   "cell_type": "markdown",
   "metadata": {},
   "source": [
    "Prediction is as easy as calling predict with the predictor we got back from deploy and the data we want to do predictions with. The output from the endpoint return an numerical representation of the classification prediction; in the original dataset, these are flower names, but in this example the labels are numerical. We can compare against the original label that we parsed."
   ]
  },
  {
   "cell_type": "code",
   "execution_count": null,
   "metadata": {},
   "outputs": [],
   "source": [
    "print(predictor.predict(test_X.values))\n",
    "print(test_y.values)"
   ]
  },
  {
   "cell_type": "markdown",
   "metadata": {},
   "source": [
    "### Endpoint cleanup <a class=\"anchor\" id=\"endpoint_cleanup\"></a>\n",
    "\n",
    "When you're done with the endpoint, you'll want to clean it up."
   ]
  },
  {
   "cell_type": "code",
   "execution_count": null,
   "metadata": {},
   "outputs": [],
   "source": [
    "sklearn.delete_endpoint()"
   ]
  },
  {
   "cell_type": "markdown",
   "metadata": {},
   "source": [
    "## Batch Transform <a class=\"anchor\" id=\"batch_transform\"></a>\n",
    "We can also use the trained model for asynchronous batch inference on S3 data using SageMaker Batch Transform."
   ]
  },
  {
   "cell_type": "code",
   "execution_count": null,
   "metadata": {},
   "outputs": [],
   "source": [
    "# Define a SKLearn Transformer from the trained SKLearn Estimator\n",
    "transformer = sklearn.transformer(instance_count=1, instance_type='ml.m4.xlarge')"
   ]
  },
  {
   "cell_type": "markdown",
   "metadata": {},
   "source": [
    "### Prepare Input Data <a class=\"anchor\" id=\"prepare_input_data\"></a>\n",
    "We will extract 10 random samples of 100 rows from the training data, then split the features (X) from the labels (Y). Then upload the input data to a given location in S3."
   ]
  },
  {
   "cell_type": "code",
   "execution_count": null,
   "metadata": {},
   "outputs": [],
   "source": [
    "%%bash\n",
    "# Randomly sample the iris dataset 10 times, then split X and Y\n",
    "mkdir -p batch_data/XY batch_data/X batch_data/Y\n",
    "for i in {0..9}; do\n",
    "    cat data/iris.csv | shuf -n 100 > batch_data/XY/iris_sample_${i}.csv\n",
    "    cat batch_data/XY/iris_sample_${i}.csv | cut -d',' -f2- > batch_data/X/iris_sample_X_${i}.csv\n",
    "    cat batch_data/XY/iris_sample_${i}.csv | cut -d',' -f1 > batch_data/Y/iris_sample_Y_${i}.csv\n",
    "done"
   ]
  },
  {
   "cell_type": "code",
   "execution_count": null,
   "metadata": {},
   "outputs": [],
   "source": [
    "# Upload input data from local filesystem to S3\n",
    "batch_input_s3 = sagemaker_session.upload_data('batch_data/X', key_prefix=prefix + '/batch_input')"
   ]
  },
  {
   "cell_type": "markdown",
   "metadata": {},
   "source": [
    "### Run Transform Job <a class=\"anchor\" id=\"run_transform_job\"></a>\n",
    "Using the Transformer, run a transform job on the S3 input data."
   ]
  },
  {
   "cell_type": "code",
   "execution_count": null,
   "metadata": {},
   "outputs": [],
   "source": [
    "# Start a transform job and wait for it to finish\n",
    "transformer.transform(batch_input_s3, content_type='text/csv')\n",
    "print('Waiting for transform job: ' + transformer.latest_transform_job.job_name)\n",
    "transformer.wait()"
   ]
  },
  {
   "cell_type": "markdown",
   "metadata": {},
   "source": [
    "### Check Output Data  <a class=\"anchor\" id=\"check_output_data\"></a>\n",
    "After the transform job has completed, download the output data from S3. For each file \"f\" in the input data, we have a corresponding file \"f.out\" containing the predicted labels from each input row. We can compare the predicted labels to the true labels saved earlier."
   ]
  },
  {
   "cell_type": "code",
   "execution_count": null,
   "metadata": {},
   "outputs": [],
   "source": [
    "# Download the output data from S3 to local filesystem\n",
    "batch_output = transformer.output_path\n",
    "!mkdir -p batch_data/output\n",
    "!aws s3 cp --recursive $batch_output/ batch_data/output/\n",
    "# Head to see what the batch output looks like\n",
    "!head batch_data/output/*"
   ]
  },
  {
   "cell_type": "code",
   "execution_count": null,
   "metadata": {},
   "outputs": [],
   "source": [
    "%%bash\n",
    "# For each sample file, compare the predicted labels from batch output to the true labels\n",
    "for i in {1..9}; do\n",
    "    diff -s batch_data/Y/iris_sample_Y_${i}.csv \\\n",
    "        <(cat batch_data/output/iris_sample_X_${i}.csv.out | sed 's/[[\"]//g' | sed 's/, \\|]/\\n/g') \\\n",
    "        | sed \"s/\\/dev\\/fd\\/63/batch_data\\/output\\/iris_sample_X_${i}.csv.out/\"\n",
    "done"
   ]
  },
  {
   "cell_type": "code",
   "execution_count": null,
   "metadata": {},
   "outputs": [],
   "source": []
  }
 ],
 "metadata": {
  "kernelspec": {
   "display_name": "conda_python3",
   "language": "python",
   "name": "conda_python3"
  },
  "language_info": {
   "codemirror_mode": {
    "name": "ipython",
    "version": 3
   },
   "file_extension": ".py",
   "mimetype": "text/x-python",
   "name": "python",
   "nbconvert_exporter": "python",
   "pygments_lexer": "ipython3",
   "version": "3.6.5"
  }
 },
 "nbformat": 4,
 "nbformat_minor": 2
}
