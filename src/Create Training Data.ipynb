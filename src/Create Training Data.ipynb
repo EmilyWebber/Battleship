{
 "cells": [
  {
   "cell_type": "markdown",
   "metadata": {},
   "source": [
    "# 3 Steps:\n",
    "- Get Ships on board\n",
    "- Walk through each point: mark if hit / miss, log\n",
    "- Create training set"
   ]
  },
  {
   "cell_type": "code",
   "execution_count": 3,
   "metadata": {},
   "outputs": [],
   "source": [
    "import TrainingSet\n",
    "import Board\n",
    "\n",
    "b = Board.Board(9,9,0)\n",
    "\n",
    "# now this is adding one extra column when it goes right\n",
    "b.add_ship('carrier', 5, 2, 'up')\n",
    "b.add_ship('destroyer', 0,0,'right')\n",
    "b.add_ship('submarine', 1,1,'up')\n",
    "b.add_ship('cruiser', 8,0,'up')\n",
    "\n"
   ]
  },
  {
   "cell_type": "code",
   "execution_count": 12,
   "metadata": {},
   "outputs": [],
   "source": [
    "ts = TrainingSet.TrainingSet(b)"
   ]
  },
  {
   "cell_type": "code",
   "execution_count": 13,
   "metadata": {},
   "outputs": [],
   "source": [
    "df = ts.get_set()"
   ]
  },
  {
   "cell_type": "code",
   "execution_count": 14,
   "metadata": {},
   "outputs": [
    {
     "data": {
      "text/plain": [
       "(100, 22)"
      ]
     },
     "execution_count": 14,
     "metadata": {},
     "output_type": "execute_result"
    }
   ],
   "source": [
    "df.shape"
   ]
  },
  {
   "cell_type": "code",
   "execution_count": 15,
   "metadata": {},
   "outputs": [
    {
     "data": {
      "text/plain": [
       "0    87\n",
       "1    13\n",
       "Name: 0, dtype: int64"
      ]
     },
     "execution_count": 15,
     "metadata": {},
     "output_type": "execute_result"
    }
   ],
   "source": [
    "df[0].value_counts()"
   ]
  },
  {
   "cell_type": "code",
   "execution_count": 17,
   "metadata": {},
   "outputs": [],
   "source": [
    "df.to_csv('../Data/train.csv', index=False, header=False)\n",
    "df.to_csv('../Data/test.csv', index=False, header=False)\n",
    "df.to_csv('../Data/validation.csv', index=False, header=False)"
   ]
  },
  {
   "cell_type": "code",
   "execution_count": 1,
   "metadata": {},
   "outputs": [
    {
     "name": "stdout",
     "output_type": "stream",
     "text": [
      "upload: ../Data/train.csv to s3://battleship-do-not-delete/train.csv\n",
      "upload: ../Data/test.csv to s3://battleship-do-not-delete/test.csv\n",
      "upload: ../Data/validation.csv to s3://battleship-do-not-delete/validation.csv\n"
     ]
    }
   ],
   "source": [
    "!aws s3 cp '../Data/train.csv' s3://battleship-do-not-delete/train.csv\n",
    "!aws s3 cp '../Data/test.csv' s3://battleship-do-not-delete/test.csv\n",
    "!aws s3 cp '../Data/validation.csv' s3://battleship-do-not-delete/validation.csv"
   ]
  },
  {
   "cell_type": "code",
   "execution_count": 6,
   "metadata": {},
   "outputs": [],
   "source": [
    "board = b.get_board()"
   ]
  },
  {
   "cell_type": "code",
   "execution_count": 8,
   "metadata": {},
   "outputs": [],
   "source": [
    "board.to_csv('../Data/raw_board.csv', header=False, index=False)"
   ]
  },
  {
   "cell_type": "code",
   "execution_count": 9,
   "metadata": {},
   "outputs": [
    {
     "name": "stdout",
     "output_type": "stream",
     "text": [
      "Completed 200 Bytes/200 Bytes (3.2 KiB/s) with 1 file(s) remaining\r",
      "upload: ../Data/raw_board.csv to s3://battleship-do-not-delete/board-raw-data/board.csv\r\n"
     ]
    }
   ],
   "source": [
    "!aws s3 cp '../Data/raw_board.csv' s3://battleship-do-not-delete/board-raw-data/board.csv"
   ]
  },
  {
   "cell_type": "code",
   "execution_count": null,
   "metadata": {},
   "outputs": [],
   "source": []
  }
 ],
 "metadata": {
  "kernelspec": {
   "display_name": "conda_python3",
   "language": "python",
   "name": "conda_python3"
  },
  "language_info": {
   "codemirror_mode": {
    "name": "ipython",
    "version": 3
   },
   "file_extension": ".py",
   "mimetype": "text/x-python",
   "name": "python",
   "nbconvert_exporter": "python",
   "pygments_lexer": "ipython3",
   "version": "3.6.5"
  }
 },
 "nbformat": 4,
 "nbformat_minor": 2
}
