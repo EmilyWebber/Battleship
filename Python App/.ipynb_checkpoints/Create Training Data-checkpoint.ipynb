{
 "cells": [
  {
   "cell_type": "markdown",
   "metadata": {},
   "source": [
    "# 3 Steps:\n",
    "- Get Ships on board\n",
    "- Walk through each point: mark if hit / miss, log\n",
    "- Create training set"
   ]
  },
  {
   "cell_type": "code",
   "execution_count": 1,
   "metadata": {},
   "outputs": [],
   "source": [
    "import TrainingSet\n",
    "import Board\n",
    "\n",
    "b = Board.Board(9,9,0)\n",
    "\n",
    "# now this is adding one extra column when it goes right\n",
    "b.add_ship('destroyer', 5, 2, 'up')\n",
    "\n",
    "ts = TrainingSet.TrainingSet(b)"
   ]
  },
  {
   "cell_type": "code",
   "execution_count": 3,
   "metadata": {},
   "outputs": [],
   "source": [
    "ts.create_training_set(b.get_board())"
   ]
  },
  {
   "cell_type": "code",
   "execution_count": null,
   "metadata": {},
   "outputs": [],
   "source": []
  }
 ],
 "metadata": {
  "kernelspec": {
   "display_name": "conda_python3",
   "language": "python",
   "name": "conda_python3"
  },
  "language_info": {
   "codemirror_mode": {
    "name": "ipython",
    "version": 3
   },
   "file_extension": ".py",
   "mimetype": "text/x-python",
   "name": "python",
   "nbconvert_exporter": "python",
   "pygments_lexer": "ipython3",
   "version": "3.6.5"
  }
 },
 "nbformat": 4,
 "nbformat_minor": 2
}
