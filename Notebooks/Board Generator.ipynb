{
 "cells": [
  {
   "cell_type": "code",
   "execution_count": 16,
   "metadata": {},
   "outputs": [],
   "source": [
    "def create_board(x_range, y_range, filler):\n",
    "    '''\n",
    "    Creates a board based on specified input. Index is from zero!!\n",
    "    '''\n",
    "    rt = []\n",
    "    for x in range(y_range+1):\n",
    "        new_row = []\n",
    "        for y in range(x_range+1):\n",
    "            new_row.append(filler)\n",
    "        rt.append(new_row)\n",
    "    return rt\n",
    "\n",
    "def print_board(board):\n",
    "    for row in board:\n",
    "        print (row)   "
   ]
  },
  {
   "cell_type": "code",
   "execution_count": 18,
   "metadata": {},
   "outputs": [
    {
     "name": "stdout",
     "output_type": "stream",
     "text": [
      "[0, 0]\n",
      "[0, 0]\n"
     ]
    }
   ],
   "source": [
    "board = create_board(1,1,0)\n",
    "print_board(board)"
   ]
  },
  {
   "cell_type": "code",
   "execution_count": null,
   "metadata": {},
   "outputs": [],
   "source": [
    "def create_features(board):\n",
    "    "
   ]
  }
 ],
 "metadata": {
  "kernelspec": {
   "display_name": "conda_python3",
   "language": "python",
   "name": "conda_python3"
  },
  "language_info": {
   "codemirror_mode": {
    "name": "ipython",
    "version": 3
   },
   "file_extension": ".py",
   "mimetype": "text/x-python",
   "name": "python",
   "nbconvert_exporter": "python",
   "pygments_lexer": "ipython3",
   "version": "3.6.5"
  }
 },
 "nbformat": 4,
 "nbformat_minor": 2
}
