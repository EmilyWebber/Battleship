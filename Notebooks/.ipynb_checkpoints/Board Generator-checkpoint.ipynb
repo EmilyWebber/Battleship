{
 "cells": [
  {
   "cell_type": "code",
   "execution_count": 74,
   "metadata": {},
   "outputs": [],
   "source": [
    "import pandas as pd"
   ]
  },
  {
   "cell_type": "code",
   "execution_count": 69,
   "metadata": {},
   "outputs": [],
   "source": [
    "def create_board(x_range, y_range, filler):\n",
    "    '''\n",
    "    Creates a board based on specified input. Index is from zero!!\n",
    "    '''\n",
    "    rt = []\n",
    "    for x in range(y_range+1):\n",
    "        new_row = []\n",
    "        for y in range(x_range+1):\n",
    "            new_row.append(filler)\n",
    "        rt.append(new_row)\n",
    "    return rt\n",
    "\n",
    "def print_board(board):\n",
    "    for row in board:\n",
    "        print (row)   \n",
    "        \n",
    "board = create_board(1,1,0)"
   ]
  },
  {
   "cell_type": "code",
   "execution_count": 97,
   "metadata": {},
   "outputs": [],
   "source": [
    "def create_features(board):\n",
    "    '''\n",
    "    Given a square board, generates features from the board. Returns a pandas data frame\n",
    "    '''\n",
    "    # make sure the board is a square \n",
    "    assert len(board) == len(board[0])\n",
    "\n",
    "    n_columns = len(board) + len(board[0])\n",
    "    \n",
    "    rt = []\n",
    "    \n",
    "    for y, row in enumerate(board):\n",
    "        \n",
    "        for x, col in enumerate(row):\n",
    "    \n",
    "            # add one extra column for the label \n",
    "            new_row = [0 for i in range(n_columns)]\n",
    "                \n",
    "            new_row[x] = 1\n",
    "            new_row[y + len(board)] = 1\n",
    "    \n",
    "            rt.append(new_row)\n",
    "    df = pd.DataFrame(rt)\n",
    "    \n",
    "    columns = []\n",
    "    \n",
    "    for c in range(n_columns):\n",
    "        if c < len(board):\n",
    "            str_base = \"x_{}\"\n",
    "        else:\n",
    "            str_base = 'y_{}'\n",
    "            c -= len(board)\n",
    "        columns.append(str_base.format(c))\n",
    "        \n",
    "    df = pd.DataFrame(rt, columns = columns)\n",
    "    df['Miss'] = 0\n",
    "\n",
    "    df.insert(0, 'Hit', [0 for i in range(df.shape[0])])\n",
    "    \n",
    "    return df\n",
    "        \n",
    "df = create_features(board)\n"
   ]
  },
  {
   "cell_type": "code",
   "execution_count": 100,
   "metadata": {},
   "outputs": [
    {
     "data": {
      "text/html": [
       "<div>\n",
       "<style scoped>\n",
       "    .dataframe tbody tr th:only-of-type {\n",
       "        vertical-align: middle;\n",
       "    }\n",
       "\n",
       "    .dataframe tbody tr th {\n",
       "        vertical-align: top;\n",
       "    }\n",
       "\n",
       "    .dataframe thead th {\n",
       "        text-align: right;\n",
       "    }\n",
       "</style>\n",
       "<table border=\"1\" class=\"dataframe\">\n",
       "  <thead>\n",
       "    <tr style=\"text-align: right;\">\n",
       "      <th></th>\n",
       "      <th>Hit</th>\n",
       "      <th>x_0</th>\n",
       "      <th>x_1</th>\n",
       "      <th>y_0</th>\n",
       "      <th>y_1</th>\n",
       "      <th>Miss</th>\n",
       "    </tr>\n",
       "  </thead>\n",
       "  <tbody>\n",
       "    <tr>\n",
       "      <th>0</th>\n",
       "      <td>0</td>\n",
       "      <td>1</td>\n",
       "      <td>0</td>\n",
       "      <td>1</td>\n",
       "      <td>0</td>\n",
       "      <td>0</td>\n",
       "    </tr>\n",
       "    <tr>\n",
       "      <th>1</th>\n",
       "      <td>0</td>\n",
       "      <td>0</td>\n",
       "      <td>1</td>\n",
       "      <td>1</td>\n",
       "      <td>0</td>\n",
       "      <td>0</td>\n",
       "    </tr>\n",
       "    <tr>\n",
       "      <th>2</th>\n",
       "      <td>0</td>\n",
       "      <td>1</td>\n",
       "      <td>0</td>\n",
       "      <td>0</td>\n",
       "      <td>1</td>\n",
       "      <td>0</td>\n",
       "    </tr>\n",
       "    <tr>\n",
       "      <th>3</th>\n",
       "      <td>0</td>\n",
       "      <td>0</td>\n",
       "      <td>1</td>\n",
       "      <td>0</td>\n",
       "      <td>1</td>\n",
       "      <td>0</td>\n",
       "    </tr>\n",
       "  </tbody>\n",
       "</table>\n",
       "</div>"
      ],
      "text/plain": [
       "   Hit  x_0  x_1  y_0  y_1  Miss\n",
       "0    0    1    0    1    0     0\n",
       "1    0    0    1    1    0     0\n",
       "2    0    1    0    0    1     0\n",
       "3    0    0    1    0    1     0"
      ]
     },
     "execution_count": 100,
     "metadata": {},
     "output_type": "execute_result"
    }
   ],
   "source": [
    "df.head()"
   ]
  },
  {
   "cell_type": "code",
   "execution_count": null,
   "metadata": {},
   "outputs": [],
   "source": []
  }
 ],
 "metadata": {
  "kernelspec": {
   "display_name": "conda_python3",
   "language": "python",
   "name": "conda_python3"
  },
  "language_info": {
   "codemirror_mode": {
    "name": "ipython",
    "version": 3
   },
   "file_extension": ".py",
   "mimetype": "text/x-python",
   "name": "python",
   "nbconvert_exporter": "python",
   "pygments_lexer": "ipython3",
   "version": "3.6.5"
  }
 },
 "nbformat": 4,
 "nbformat_minor": 2
}
